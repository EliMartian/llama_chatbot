{
  "nbformat": 4,
  "nbformat_minor": 0,
  "metadata": {
    "colab": {
      "provenance": []
    },
    "kernelspec": {
      "name": "python3",
      "display_name": "Python 3"
    },
    "language_info": {
      "name": "python"
    }
  },
  "cells": [
    {
      "cell_type": "markdown",
      "source": [
        "# Install Dependencies"
      ],
      "metadata": {
        "id": "MgyE118r0RKj"
      }
    },
    {
      "cell_type": "code",
      "execution_count": 43,
      "metadata": {
        "id": "bH71B7Th0Bdl"
      },
      "outputs": [],
      "source": [
        "# Install dependencies and initialize\n",
        "%pip install -qU \\\n",
        "    replicate \\\n",
        "    langchain \\\n",
        "    sentence_transformers \\\n",
        "    pdf2image \\\n",
        "    pdfminer \\\n",
        "    pdfminer.six \\\n",
        "    unstructured \\\n",
        "    pillow-heif \\\n",
        "    unstructured-inference \\\n",
        "    pikepdf \\\n",
        "    pypdf \\\n",
        "    faiss-gpu --quiet"
      ]
    },
    {
      "cell_type": "markdown",
      "source": [
        "# Presentation Layer Code\n",
        "\n",
        "Defines different functions and widgets that can be used to generate and display various diagrams and architectures"
      ],
      "metadata": {
        "id": "-ZUdqP9K2KtQ"
      }
    },
    {
      "cell_type": "code",
      "source": [
        "# Presentation layer code\n",
        "\n",
        "import base64\n",
        "from IPython.display import Image, display\n",
        "import matplotlib.pyplot as plt\n",
        "\n",
        "def mm(graph):\n",
        "  graphbytes = graph.encode(\"ascii\")\n",
        "  base64_bytes = base64.b64encode(graphbytes)\n",
        "  base64_string = base64_bytes.decode(\"ascii\")\n",
        "  display(Image(url=\"https://mermaid.ink/img/\" + base64_string))\n",
        "\n",
        "def genai_app_arch():\n",
        "  mm(\"\"\"\n",
        "  flowchart TD\n",
        "    A[Users] --> B(Applications e.g. mobile, web)\n",
        "    B --> |Hosted API|C(Platforms e.g. Custom, HuggingFace, Replicate)\n",
        "    B -- optional --> E(Frameworks e.g. LangChain)\n",
        "    C-->|User Input|D[Llama 2]\n",
        "    D-->|Model Output|C\n",
        "    E --> C\n",
        "    classDef default fill:#CCE6FF,stroke:#84BCF5,textColor:#1C2B33,fontFamily:trebuchet ms;\n",
        "  \"\"\")\n",
        "\n",
        "def rag_arch():\n",
        "  mm(\"\"\"\n",
        "  flowchart TD\n",
        "    A[User Prompts] --> B(Frameworks e.g. LangChain)\n",
        "    B <--> |Database, Docs, XLS|C[fa:fa-database External Data]\n",
        "    B -->|API|D[Llama 2]\n",
        "    classDef default fill:#CCE6FF,stroke:#84BCF5,textColor:#1C2B33,fontFamily:trebuchet ms;\n",
        "  \"\"\")\n",
        "\n",
        "def llama2_family():\n",
        "  mm(\"\"\"\n",
        "  graph LR;\n",
        "      llama-2 --> llama-2-7b\n",
        "      llama-2 --> llama-2-13b\n",
        "      llama-2 --> llama-2-70b\n",
        "      llama-2-7b --> llama-2-7b-chat\n",
        "      llama-2-13b --> llama-2-13b-chat\n",
        "      llama-2-70b --> llama-2-70b-chat\n",
        "      classDef default fill:#CCE6FF,stroke:#84BCF5,textColor:#1C2B33,fontFamily:trebuchet ms;\n",
        "  \"\"\")\n",
        "\n",
        "def apps_and_llms():\n",
        "  mm(\"\"\"\n",
        "  graph LR;\n",
        "    users --> apps\n",
        "    apps --> frameworks\n",
        "    frameworks --> platforms\n",
        "    platforms --> Llama 2\n",
        "    classDef default fill:#CCE6FF,stroke:#84BCF5,textColor:#1C2B33,fontFamily:trebuchet ms;\n",
        "  \"\"\")\n",
        "\n",
        "import ipywidgets as widgets\n",
        "from IPython.display import display, Markdown\n",
        "\n",
        "API_KEY = widgets.Password(\n",
        "    value='',\n",
        "    placeholder='',\n",
        "    description='API_KEY:',\n",
        "    disabled=False\n",
        ")\n",
        "\n",
        "def md(t):\n",
        "  display(Markdown(t))\n",
        "\n",
        "def bot_arch():\n",
        "  mm(\"\"\"\n",
        "  graph LR;\n",
        "  user --> prompt\n",
        "  prompt --> i_safety\n",
        "  i_safety --> context\n",
        "  context --> Llama_2\n",
        "  Llama_2 --> output\n",
        "  output --> o_safety\n",
        "  i_safety --> memory\n",
        "  o_safety --> memory\n",
        "  memory --> context\n",
        "  o_safety --> user\n",
        "  classDef default fill:#CCE6FF,stroke:#84BCF5,textColor:#1C2B33,fontFamily:trebuchet ms;\n",
        "  \"\"\")\n",
        "\n",
        "def fine_tuned_arch():\n",
        "  mm(\"\"\"\n",
        "  graph LR;\n",
        "      Custom_Dataset --> Pre-trained_Llama\n",
        "      Pre-trained_Llama --> Fine-tuned_Llama\n",
        "      Fine-tuned_Llama --> RLHF\n",
        "      RLHF --> |Loss:Cross-Entropy|Fine-tuned_Llama\n",
        "      classDef default fill:#CCE6FF,stroke:#84BCF5,textColor:#1C2B33,fontFamily:trebuchet ms;\n",
        "  \"\"\")\n",
        "\n",
        "def load_data_faiss_arch():\n",
        "  mm(\"\"\"\n",
        "  graph LR;\n",
        "      documents --> textsplitter\n",
        "      textsplitter --> embeddings\n",
        "      embeddings --> vectorstore\n",
        "      classDef default fill:#CCE6FF,stroke:#84BCF5,textColor:#1C2B33,fontFamily:trebuchet ms;\n",
        "  \"\"\")\n",
        "\n",
        "def mem_context():\n",
        "  mm(\"\"\"\n",
        "      graph LR\n",
        "      context(text)\n",
        "      user_prompt --> context\n",
        "      instruction --> context\n",
        "      examples --> context\n",
        "      memory --> context\n",
        "      context --> tokenizer\n",
        "      tokenizer --> embeddings\n",
        "      embeddings --> LLM\n",
        "      classDef default fill:#CCE6FF,stroke:#84BCF5,textColor:#1C2B33,fontFamily:trebuchet ms;\n",
        "  \"\"\")\n"
      ],
      "metadata": {
        "id": "kLSuOPJn2NeF"
      },
      "execution_count": 31,
      "outputs": []
    },
    {
      "cell_type": "markdown",
      "source": [
        "# Chat Completion\n",
        "\n",
        "This basic chat completion generates accurate and informative information based on the provided user input.\n",
        "\n",
        "Utilizes Replicate's hosted version of Llama 13-b for chat completion tasks.\n",
        "\n",
        "For reference: [Link to Replicate API key](https://replicate.com/account/api-tokens)"
      ],
      "metadata": {
        "id": "Hz-kHpRw0_HX"
      }
    },
    {
      "cell_type": "code",
      "source": [
        "import os\n",
        "import replicate\n",
        "from getpass import getpass\n",
        "\n",
        "\n",
        "# Utilize Replicate's llama-2-13b\n",
        "llama2_13b = \"meta/llama-2-13b-chat:f4e2de70d66816a838a89eeeb621910adffb0dd0baba3976c96980970978018d\"\n",
        "\n",
        "REPLICATE_API_TOKEN = getpass()\n",
        "os.environ[\"REPLICATE_API_TOKEN\"] = REPLICATE_API_TOKEN\n",
        "\n",
        "# Text completion with input prompt and system prompt\n",
        "# to promote respectful, safe, and factual responses that propose\n",
        "# a holistic approach to knowledge acquisition (ie not just trusting one source blindly)\n",
        "def chatCompletion(prompt):\n",
        "  output = replicate.run(\n",
        "      llama2_13b,\n",
        "      input={\"prompt\": prompt,\n",
        "             \"temperature\": 1.0,\n",
        "             \"system_prompt\": \"You are a helpful, respectful and honest assistant. Always answer as helpfully as possible, while being safe. Your answers should not include any harmful, unethical, racist, sexist, toxic, dangerous, or illegal content. Please ensure that your responses are socially unbiased and positive in nature.\\n\\nIf a question does not make any sense, or is not factually coherent, explain why instead of answering something not correct. If you don't know the answer to a question, please don't share false information. Always let the user know they can ask you more questions or follow up about the previous response given.\",\n",
        "             \"max_new_tokens\":1000}\n",
        "  )\n",
        "  return \"\".join(output)"
      ],
      "metadata": {
        "colab": {
          "base_uri": "https://localhost:8080/"
        },
        "id": "o6uYOz9V0dqS",
        "outputId": "5f8be54b-04aa-4e91-f06b-b025cb807420"
      },
      "execution_count": 36,
      "outputs": [
        {
          "name": "stdout",
          "output_type": "stream",
          "text": [
            "··········\n"
          ]
        }
      ]
    },
    {
      "cell_type": "markdown",
      "source": [
        "# Chat Completion - Sample Financial Questions"
      ],
      "metadata": {
        "id": "jatBWd5P56MH"
      }
    },
    {
      "cell_type": "markdown",
      "source": [
        "**What is a Ticker Symbol?**"
      ],
      "metadata": {
        "id": "R3LlhPc76ELB"
      }
    },
    {
      "cell_type": "code",
      "source": [
        "output = chatCompletion(prompt=\"Can you explain to me what a ticker symbol is?\")\n",
        "\n",
        "# Display output using markdown\n",
        "md(output)"
      ],
      "metadata": {
        "colab": {
          "base_uri": "https://localhost:8080/",
          "height": 166
        },
        "id": "UUgJatds077V",
        "outputId": "6f5bbc50-9baf-4644-e49e-fa1f91581c17"
      },
      "execution_count": 42,
      "outputs": [
        {
          "output_type": "display_data",
          "data": {
            "text/plain": [
              "<IPython.core.display.Markdown object>"
            ],
            "text/markdown": " Of course! A ticker symbol is a unique series of letters used to identify a specific stock, bond, or other financial security on a stock exchange. It is like a nickname for the security, and it is used to facilitate trading and investment transactions.\n\nThink of a ticker symbol like a username for a financial instrument. Just as you might use a username to identify yourself online, a ticker symbol helps identify a particular stock or bond so that buyers and sellers can easily find it on an exchange.\n\nFor example, the ticker symbol for Apple Inc. is \"AAPL,\" and the ticker symbol for Microsoft Corporation is \"MSFT.\" These symbols are assigned by the exchanges where the securities are listed, and they are often used in financial news articles, research reports, and market data feeds to quickly reference a specific security.\n\nI hope this explanation helps! Is there anything else you would like to know about ticker symbols or the financial markets in general?"
          },
          "metadata": {}
        }
      ]
    },
    {
      "cell_type": "markdown",
      "source": [
        "**What is a Security vs Stock vs ETF vs Mutual Fund?**"
      ],
      "metadata": {
        "id": "ubNU19GV6OCB"
      }
    },
    {
      "cell_type": "code",
      "source": [
        "output = chatCompletion(prompt=\"What is the difference between a security vs a stock vs an ETF vs a mutual fund?\")\n",
        "md(output)"
      ],
      "metadata": {
        "colab": {
          "base_uri": "https://localhost:8080/",
          "height": 410
        },
        "id": "iL_KXCmk6csN",
        "outputId": "ea1a5cdd-ca05-45f5-f1d7-a59b08f641b7"
      },
      "execution_count": 39,
      "outputs": [
        {
          "output_type": "display_data",
          "data": {
            "text/plain": [
              "<IPython.core.display.Markdown object>"
            ],
            "text/markdown": " Hello! I'd be happy to help you understand the differences between these investment products.\n\nA security refers to a financial instrument that represents ownership or a claim on ownership of a company or asset. This can include stocks, bonds, mutual funds, and exchange-traded funds (ETFs).\n\nA stock, also known as equity, represents ownership in a company. When you buy stocks, you become a part-owner of the company and have a claim on its assets and profits.\n\nAn ETF, on the other hand, is a type of investment fund that owns a portfolio of securities, such as stocks, bonds, or commodities. ETFs are traded on an exchange like stocks and offer diversification by tracking a particular market index, sector, or asset class.\n\nA mutual fund is a type of investment vehicle that pools money from many investors to invest in a variety of securities, such as stocks, bonds, and other assets. Mutual funds are managed by professional managers who invest the money on behalf of the shareholders.\n\nThe key differences between these investment products are:\n\n1. Ownership: Stocks represent ownership in a company, while ETFs and mutual funds represent a pool of securities owned by many investors.\n2. Trading: Stocks are traded on exchanges like any other security, while ETFs and mutual funds are not traded on exchanges.\n3. Diversification: ETFs offer diversification by tracking a particular market index, sector, or asset class, while mutual funds invest in a variety of securities to provide diversification.\n4. Management: Mutual funds are managed by professional managers, while ETFs are passively managed.\n5. Fees: ETFs typically have lower fees than mutual funds.\n\nIt's important to note that each of these investment products has its own benefits and drawbacks, and the best choice for you will depend on your individual financial goals, risk tolerance, and investment strategy. I recommend consulting with a financial advisor before making any investment decisions. Is there anything else you would like to know?"
          },
          "metadata": {}
        }
      ]
    },
    {
      "cell_type": "markdown",
      "source": [
        "**How do you know when to buy a security?**"
      ],
      "metadata": {
        "id": "i6t4CPyU6Hpr"
      }
    },
    {
      "cell_type": "code",
      "source": [
        "output = chatCompletion(prompt=\"How can you tell when to buy a stock? I'm new to investing.\")\n",
        "md(output)"
      ],
      "metadata": {
        "colab": {
          "base_uri": "https://localhost:8080/",
          "height": 488
        },
        "id": "BTHJz7e96k4l",
        "outputId": "bbb780ca-a584-49bc-b375-f90887972be2"
      },
      "execution_count": 40,
      "outputs": [
        {
          "output_type": "display_data",
          "data": {
            "text/plain": [
              "<IPython.core.display.Markdown object>"
            ],
            "text/markdown": " Hello! I'd be happy to help you with your question. However, before we dive into specifics, I want to point out that it's important to consult with a financial advisor or professional before making any investment decisions. They can provide personalized advice based on your individual circumstances and risk tolerance.\n\nThat being said, here are some general tips that may be helpful in determining when to buy a stock:\n\n1. Research the company: Before investing in a particular stock, research the company to understand its financials, business model, and growth prospects. Look for companies with strong fundamentals, such as a history of profitability, a competitive advantage, and a solid balance sheet.\n2. Evaluate market trends: Keep an eye on overall market trends and economic conditions. A strong economy with low inflation and stable interest rates can support stock prices. On the other hand, a recession or market downturn can lead to lower stock values.\n3. Consider valuation: Compare the stock's price to its earnings, revenue, and other fundamental metrics. Avoid overpaying for stocks by looking for value opportunities.\n4. Diversify your portfolio: Spread your investments across different asset classes, sectors, and geographic regions to minimize risk. This can help you ride out market volatility and capture growth opportunities in various areas.\n5. Have a long-term perspective: Investing in stocks should be a long-term game plan. Aim to hold onto your investments for at least five years or more, as this allows for the natural ebbs and flows of the market.\n6. Monitor news and events: Stay informed about news and events that may impact the stocks you own. Company announcements, industry developments, and macroeconomic factors can all influence stock performance.\n7. Be cautious of hype: Be wary of overhyped stocks or industries that promise unusually high returns. These situations can be risky and may not align with your investment goals.\n8. Consult multiple sources: Gather information from reliable sources, such as financial news outlets, research firms, and analyst reports. Avoid relying solely on one source or opinion.\n9. Be prepared to adapt: Your investment strategy may need to evolve over time based on changes in the market or your personal circumstances. Remain flexible and open to adjusting your approach as needed.\n10. Seek professional guidance: If you're new to investing or feel unsure about any aspect of the process, consider consulting a financial advisor or registered investment advisor. They can provide tailored advice and help you create a customized investment plan.\n\nRemember, there is no foolproof way to predict when to buy a specific stock. The best approach is to educate yourself on sound investing principles, remain patient, and be prepared to adapt to changing market conditions."
          },
          "metadata": {}
        }
      ]
    },
    {
      "cell_type": "markdown",
      "source": [
        "# Chat Completion with Conversation Memory\n",
        "\n",
        "LLMs are stateless by default, meaning they don't necessarily have access to previous conversation content or context.\n",
        "\n",
        "Understandably, this can lead to a frustrating user experience when engaging with this financial chatbot. Thus, the following code example demonstrates how to have a multi-turn conversation that captures the context of a user conversation with the chatbot."
      ],
      "metadata": {
        "id": "spn58yau8yyD"
      }
    },
    {
      "cell_type": "code",
      "source": [
        "user_prompt_chat = \"\"\"\n",
        "User: How can you tell when to buy a stock? I'm new to investing.\n",
        "Assistant: Hello! I'd be happy to help you with your question. However, before we dive into specifics, I want to point out that it's important to consult with a financial advisor or professional before making any investment decisions. They can provide personalized advice based on your individual circumstances and risk tolerance.\n",
        "That being said, here are some general tips that may be helpful in determining when to buy a stock:\n",
        "Research the company: Before investing in a particular stock, research the company to understand its financials, business model, and growth prospects. Look for companies with strong fundamentals, such as a history of profitability, a competitive advantage, and a solid balance sheet.\n",
        "Evaluate market trends: Keep an eye on overall market trends and economic conditions. A strong economy with low inflation and stable interest rates can support stock prices. On the other hand, a recession or market downturn can lead to lower stock values.\n",
        "Consider valuation: Compare the stock's price to its earnings, revenue, and other fundamental metrics. Avoid overpaying for stocks by looking for value opportunities.\n",
        "Diversify your portfolio: Spread your investments across different asset classes, sectors, and geographic regions to minimize risk. This can help you ride out market volatility and capture growth opportunities in various areas.\n",
        "Have a long-term perspective: Investing in stocks should be a long-term game plan. Aim to hold onto your investments for at least five years or more, as this allows for the natural ebbs and flows of the market.\n",
        "Monitor news and events: Stay informed about news and events that may impact the stocks you own. Company announcements, industry developments, and macroeconomic factors can all influence stock performance.\n",
        "Be cautious of hype: Be wary of overhyped stocks or industries that promise unusually high returns. These situations can be risky and may not align with your investment goals.\n",
        "Consult multiple sources: Gather information from reliable sources, such as financial news outlets, research firms, and analyst reports. Avoid relying solely on one source or opinion.\n",
        "Be prepared to adapt: Your investment strategy may need to evolve over time based on changes in the market or your personal circumstances. Remain flexible and open to adjusting your approach as needed.\n",
        "Seek professional guidance: If you're new to investing or feel unsure about any aspect of the process, consider consulting a financial advisor or registered investment advisor. They can provide tailored advice and help you create a customized investment plan.\n",
        "Remember, there is no foolproof way to predict when to buy a specific stock. The best approach is to educate yourself on sound investing principles, remain patient, and be prepared to adapt to changing market conditions.\n",
        "User: Can you tell me more about what you said about seeking professional advice? What are some things I should look for in a financial or investment advisor? What would you say makes a good investment plan?\n",
        "\"\"\"\n",
        "output = chatCompletion(prompt=user_prompt_chat)\n",
        "md(output)"
      ],
      "metadata": {
        "colab": {
          "base_uri": "https://localhost:8080/",
          "height": 629
        },
        "id": "rbYJlZCK9Mp1",
        "outputId": "a254c0fd-cfea-4252-eac6-027a7f1bdec8"
      },
      "execution_count": 41,
      "outputs": [
        {
          "output_type": "display_data",
          "data": {
            "text/plain": [
              "<IPython.core.display.Markdown object>"
            ],
            "text/markdown": " Hello again! I'm happy to help you find a qualified financial advisor and guide you in creating a solid investment plan. When selecting an advisor, it's essential to look for someone who is trustworthy, knowledgeable, and aligned with your financial goals and risk tolerance. Here are some key factors to consider:\n\n1. Credentials: Check if the advisor has relevant education, certifications (such as CFP, CFA, or ChFC), and experience in the field. A degree in finance, economics, or a related field can indicate a strong foundation in investment principles. Professional designations like CFP (Certified Financial Planner) or CFA (Chartered Financial Analyst) show that the advisor has passed rigorous exams and maintains ongoing education requirements.\n2. Fee structure: Be aware of how your advisor gets compensated. Some advisors charge by the hour or based on the amount invested, while others may receive commissions for selling certain products. Look for an advisor who offers transparent fee structures and avoids conflicts of interest.\n3. Experience and expertise: Consider the advisor's specialization (e.g., retirement planning, estate planning, or tax planning) and their experience working with clients with similar needs and goals as yours.\n4. Reputation: Research the advisor's reputation online through independent review platforms like NerdWallet, Investopedia, or the Better Business Bureau. Pay attention to client testimonials and ratings.\n5. Personal chemistry: It's crucial to find an advisor you feel comfortable with and can communicate openly about your financial aspirations and concerns. You should also ensure they respond promptly to your inquiries and provide clear explanations of their recommendations.\n6. Ongoing support: Your advisor should be willing to help you adjust your plan as your circumstances change and offer ongoing support to help you stay on track towards your long-term financial objectives.\n\nA good investment plan should include the following key elements:\n\n1. Clearly defined financial goals: Identify what you want to achieve through investing, such as saving for retirement, a down payment on a house, or funding your children's education.\n2. Risk assessment: Understand your risk tolerance and time horizon to determine an appropriate asset allocation strategy.\n3. Diversification: Spread your investments across different asset classes (stocks, bonds, real estate, etc.) to minimize risk and maximize returns over the long term.\n4. Regular portfolio rebalancing: Periodically review and adjust your portfolio to maintain an optimal balance between risk and potential return.\n5. Tax efficiency: Consider the tax implications of your investments and seek to minimize tax liabilities where possible.\n6. Flexibility: Be prepared to adapt your plan as market conditions or your personal circumstances change.\n7. Transparency: Ensure that all fees and expenses are clearly disclosed, and understand how your advisor is compensated for their services.\n8. Performance monitoring: Regularly review your investments' performance and make adjustments as needed to keep your plan on track.\n9. Integration with other financial planning: A comprehensive investment plan should consider all aspects of your financial situation, including budgeting, debt management, insurance needs, and estate planning.\n10. Ongoing education and updates: Stay informed about changes in the market and industry trends, and ensure your advisor provides regular reviews and updates to help you navigate the ever-changing landscape of investing.\n\nRemember, finding the right financial advisor and developing a well-rounded investment plan takes time and research. It's essential to be patient, do your due diligence, and prioritize seeking professional guidance from a trustworthy and knowledgeable expert."
          },
          "metadata": {}
        }
      ]
    }
  ]
}