{
  "cells": [
    {
      "cell_type": "markdown",
      "metadata": {
        "id": "MgyE118r0RKj"
      },
      "source": [
        "# Install Dependencies"
      ]
    },
    {
      "cell_type": "code",
      "execution_count": 1,
      "metadata": {
        "colab": {
          "base_uri": "https://localhost:8080/"
        },
        "id": "bH71B7Th0Bdl",
        "outputId": "97394d10-4cc6-4bf4-bc53-444b68272b0c"
      },
      "outputs": [
        {
          "name": "stdout",
          "output_type": "stream",
          "text": [
            "\u001b[2K     \u001b[90m━━━━━━━━━━━━━━━━━━━━━━━━━━━━━━━━━━━━━━━━\u001b[0m \u001b[32m810.5/810.5 kB\u001b[0m \u001b[31m9.5 MB/s\u001b[0m eta \u001b[36m0:00:00\u001b[0m\n",
            "\u001b[2K     \u001b[90m━━━━━━━━━━━━━━━━━━━━━━━━━━━━━━━━━━━━━━━━\u001b[0m \u001b[32m163.1/163.1 kB\u001b[0m \u001b[31m5.7 MB/s\u001b[0m eta \u001b[36m0:00:00\u001b[0m\n",
            "\u001b[2K     \u001b[90m━━━━━━━━━━━━━━━━━━━━━━━━━━━━━━━━━━━━━━━━\u001b[0m \u001b[32m4.2/4.2 MB\u001b[0m \u001b[31m16.3 MB/s\u001b[0m eta \u001b[36m0:00:00\u001b[0m\n",
            "\u001b[?25h  Preparing metadata (setup.py) ... \u001b[?25l\u001b[?25hdone\n",
            "\u001b[2K     \u001b[90m━━━━━━━━━━━━━━━━━━━━━━━━━━━━━━━━━━━━━━━━\u001b[0m \u001b[32m5.6/5.6 MB\u001b[0m \u001b[31m35.3 MB/s\u001b[0m eta \u001b[36m0:00:00\u001b[0m\n",
            "\u001b[2K     \u001b[90m━━━━━━━━━━━━━━━━━━━━━━━━━━━━━━━━━━━━━━━━\u001b[0m \u001b[32m1.8/1.8 MB\u001b[0m \u001b[31m42.4 MB/s\u001b[0m eta \u001b[36m0:00:00\u001b[0m\n",
            "\u001b[2K     \u001b[90m━━━━━━━━━━━━━━━━━━━━━━━━━━━━━━━━━━━━━━━━\u001b[0m \u001b[32m7.5/7.5 MB\u001b[0m \u001b[31m45.9 MB/s\u001b[0m eta \u001b[36m0:00:00\u001b[0m\n",
            "\u001b[2K     \u001b[90m━━━━━━━━━━━━━━━━━━━━━━━━━━━━━━━━━━━━━━━━\u001b[0m \u001b[32m58.9/58.9 kB\u001b[0m \u001b[31m3.1 MB/s\u001b[0m eta \u001b[36m0:00:00\u001b[0m\n",
            "\u001b[2K     \u001b[90m━━━━━━━━━━━━━━━━━━━━━━━━━━━━━━━━━━━━━━━━\u001b[0m \u001b[32m2.4/2.4 MB\u001b[0m \u001b[31m18.1 MB/s\u001b[0m eta \u001b[36m0:00:00\u001b[0m\n",
            "\u001b[2K     \u001b[90m━━━━━━━━━━━━━━━━━━━━━━━━━━━━━━━━━━━━━━━━\u001b[0m \u001b[32m286.1/286.1 kB\u001b[0m \u001b[31m25.2 MB/s\u001b[0m eta \u001b[36m0:00:00\u001b[0m\n",
            "\u001b[2K     \u001b[90m━━━━━━━━━━━━━━━━━━━━━━━━━━━━━━━━━━━━━━━━\u001b[0m \u001b[32m85.5/85.5 MB\u001b[0m \u001b[31m8.6 MB/s\u001b[0m eta \u001b[36m0:00:00\u001b[0m\n",
            "\u001b[2K     \u001b[90m━━━━━━━━━━━━━━━━━━━━━━━━━━━━━━━━━━━━━━━━\u001b[0m \u001b[32m75.6/75.6 kB\u001b[0m \u001b[31m6.4 MB/s\u001b[0m eta \u001b[36m0:00:00\u001b[0m\n",
            "\u001b[2K     \u001b[90m━━━━━━━━━━━━━━━━━━━━━━━━━━━━━━━━━━━━━━━━\u001b[0m \u001b[32m1.8/1.8 MB\u001b[0m \u001b[31m46.6 MB/s\u001b[0m eta \u001b[36m0:00:00\u001b[0m\n",
            "\u001b[2K     \u001b[90m━━━━━━━━━━━━━━━━━━━━━━━━━━━━━━━━━━━━━━━━\u001b[0m \u001b[32m269.1/269.1 kB\u001b[0m \u001b[31m17.0 MB/s\u001b[0m eta \u001b[36m0:00:00\u001b[0m\n",
            "\u001b[2K     \u001b[90m━━━━━━━━━━━━━━━━━━━━━━━━━━━━━━━━━━━━━━━━\u001b[0m \u001b[32m71.6/71.6 kB\u001b[0m \u001b[31m5.5 MB/s\u001b[0m eta \u001b[36m0:00:00\u001b[0m\n",
            "\u001b[2K     \u001b[90m━━━━━━━━━━━━━━━━━━━━━━━━━━━━━━━━━━━━━━━━\u001b[0m \u001b[32m2.1/2.1 MB\u001b[0m \u001b[31m44.9 MB/s\u001b[0m eta \u001b[36m0:00:00\u001b[0m\n",
            "\u001b[2K     \u001b[90m━━━━━━━━━━━━━━━━━━━━━━━━━━━━━━━━━━━━━━━━\u001b[0m \u001b[32m421.5/421.5 kB\u001b[0m \u001b[31m24.0 MB/s\u001b[0m eta \u001b[36m0:00:00\u001b[0m\n",
            "\u001b[2K     \u001b[90m━━━━━━━━━━━━━━━━━━━━━━━━━━━━━━━━━━━━━━━━\u001b[0m \u001b[32m981.5/981.5 kB\u001b[0m \u001b[31m41.4 MB/s\u001b[0m eta \u001b[36m0:00:00\u001b[0m\n",
            "\u001b[?25h  Preparing metadata (setup.py) ... \u001b[?25l\u001b[?25hdone\n",
            "\u001b[2K     \u001b[90m━━━━━━━━━━━━━━━━━━━━━━━━━━━━━━━━━━━━━━━━\u001b[0m \u001b[32m8.0/8.0 MB\u001b[0m \u001b[31m43.2 MB/s\u001b[0m eta \u001b[36m0:00:00\u001b[0m\n",
            "\u001b[2K     \u001b[90m━━━━━━━━━━━━━━━━━━━━━━━━━━━━━━━━━━━━━━━━\u001b[0m \u001b[32m49.4/49.4 kB\u001b[0m \u001b[31m3.3 MB/s\u001b[0m eta \u001b[36m0:00:00\u001b[0m\n",
            "\u001b[2K     \u001b[90m━━━━━━━━━━━━━━━━━━━━━━━━━━━━━━━━━━━━━━━━\u001b[0m \u001b[32m18.2/18.2 MB\u001b[0m \u001b[31m31.5 MB/s\u001b[0m eta \u001b[36m0:00:00\u001b[0m\n",
            "\u001b[2K     \u001b[90m━━━━━━━━━━━━━━━━━━━━━━━━━━━━━━━━━━━━━━━━\u001b[0m \u001b[32m53.0/53.0 kB\u001b[0m \u001b[31m3.8 MB/s\u001b[0m eta \u001b[36m0:00:00\u001b[0m\n",
            "\u001b[2K     \u001b[90m━━━━━━━━━━━━━━━━━━━━━━━━━━━━━━━━━━━━━━━━\u001b[0m \u001b[32m274.7/274.7 kB\u001b[0m \u001b[31m11.0 MB/s\u001b[0m eta \u001b[36m0:00:00\u001b[0m\n",
            "\u001b[2K     \u001b[90m━━━━━━━━━━━━━━━━━━━━━━━━━━━━━━━━━━━━━━━━\u001b[0m \u001b[32m3.4/3.4 MB\u001b[0m \u001b[31m25.1 MB/s\u001b[0m eta \u001b[36m0:00:00\u001b[0m\n",
            "\u001b[2K     \u001b[90m━━━━━━━━━━━━━━━━━━━━━━━━━━━━━━━━━━━━━━━━\u001b[0m \u001b[32m143.8/143.8 kB\u001b[0m \u001b[31m14.4 MB/s\u001b[0m eta \u001b[36m0:00:00\u001b[0m\n",
            "\u001b[2K     \u001b[90m━━━━━━━━━━━━━━━━━━━━━━━━━━━━━━━━━━━━━━━━\u001b[0m \u001b[32m80.3/80.3 kB\u001b[0m \u001b[31m4.6 MB/s\u001b[0m eta \u001b[36m0:00:00\u001b[0m\n",
            "\u001b[2K     \u001b[90m━━━━━━━━━━━━━━━━━━━━━━━━━━━━━━━━━━━━━━━━\u001b[0m \u001b[32m19.2/19.2 MB\u001b[0m \u001b[31m28.1 MB/s\u001b[0m eta \u001b[36m0:00:00\u001b[0m\n",
            "\u001b[2K     \u001b[90m━━━━━━━━━━━━━━━━━━━━━━━━━━━━━━━━━━━━━━━━\u001b[0m \u001b[32m15.9/15.9 MB\u001b[0m \u001b[31m63.7 MB/s\u001b[0m eta \u001b[36m0:00:00\u001b[0m\n",
            "\u001b[2K     \u001b[90m━━━━━━━━━━━━━━━━━━━━━━━━━━━━━━━━━━━━━━━━\u001b[0m \u001b[32m5.9/5.9 MB\u001b[0m \u001b[31m47.5 MB/s\u001b[0m eta \u001b[36m0:00:00\u001b[0m\n",
            "\u001b[2K     \u001b[90m━━━━━━━━━━━━━━━━━━━━━━━━━━━━━━━━━━━━━━━━\u001b[0m \u001b[32m4.5/4.5 MB\u001b[0m \u001b[31m23.3 MB/s\u001b[0m eta \u001b[36m0:00:00\u001b[0m\n",
            "\u001b[2K     \u001b[90m━━━━━━━━━━━━━━━━━━━━━━━━━━━━━━━━━━━━━━━━\u001b[0m \u001b[32m77.8/77.8 kB\u001b[0m \u001b[31m7.1 MB/s\u001b[0m eta \u001b[36m0:00:00\u001b[0m\n",
            "\u001b[2K     \u001b[90m━━━━━━━━━━━━━━━━━━━━━━━━━━━━━━━━━━━━━━━━\u001b[0m \u001b[32m58.3/58.3 kB\u001b[0m \u001b[31m4.8 MB/s\u001b[0m eta \u001b[36m0:00:00\u001b[0m\n",
            "\u001b[2K     \u001b[90m━━━━━━━━━━━━━━━━━━━━━━━━━━━━━━━━━━━━━━━━\u001b[0m \u001b[32m138.5/138.5 kB\u001b[0m \u001b[31m10.1 MB/s\u001b[0m eta \u001b[36m0:00:00\u001b[0m\n",
            "\u001b[2K     \u001b[90m━━━━━━━━━━━━━━━━━━━━━━━━━━━━━━━━━━━━━━━━\u001b[0m \u001b[32m46.0/46.0 kB\u001b[0m \u001b[31m4.7 MB/s\u001b[0m eta \u001b[36m0:00:00\u001b[0m\n",
            "\u001b[2K     \u001b[90m━━━━━━━━━━━━━━━━━━━━━━━━━━━━━━━━━━━━━━━━\u001b[0m \u001b[32m23.7/23.7 MB\u001b[0m \u001b[31m55.3 MB/s\u001b[0m eta \u001b[36m0:00:00\u001b[0m\n",
            "\u001b[2K     \u001b[90m━━━━━━━━━━━━━━━━━━━━━━━━━━━━━━━━━━━━━━━━\u001b[0m \u001b[32m823.6/823.6 kB\u001b[0m \u001b[31m52.3 MB/s\u001b[0m eta \u001b[36m0:00:00\u001b[0m\n",
            "\u001b[2K     \u001b[90m━━━━━━━━━━━━━━━━━━━━━━━━━━━━━━━━━━━━━━━━\u001b[0m \u001b[32m14.1/14.1 MB\u001b[0m \u001b[31m79.1 MB/s\u001b[0m eta \u001b[36m0:00:00\u001b[0m\n",
            "\u001b[2K     \u001b[90m━━━━━━━━━━━━━━━━━━━━━━━━━━━━━━━━━━━━━━━━\u001b[0m \u001b[32m731.7/731.7 MB\u001b[0m \u001b[31m2.0 MB/s\u001b[0m eta \u001b[36m0:00:00\u001b[0m\n",
            "\u001b[2K     \u001b[90m━━━━━━━━━━━━━━━━━━━━━━━━━━━━━━━━━━━━━━━━\u001b[0m \u001b[32m410.6/410.6 MB\u001b[0m \u001b[31m3.6 MB/s\u001b[0m eta \u001b[36m0:00:00\u001b[0m\n",
            "\u001b[2K     \u001b[90m━━━━━━━━━━━━━━━━━━━━━━━━━━━━━━━━━━━━━━━━\u001b[0m \u001b[32m121.6/121.6 MB\u001b[0m \u001b[31m7.9 MB/s\u001b[0m eta \u001b[36m0:00:00\u001b[0m\n",
            "\u001b[2K     \u001b[90m━━━━━━━━━━━━━━━━━━━━━━━━━━━━━━━━━━━━━━━━\u001b[0m \u001b[32m56.5/56.5 MB\u001b[0m \u001b[31m10.0 MB/s\u001b[0m eta \u001b[36m0:00:00\u001b[0m\n",
            "\u001b[2K     \u001b[90m━━━━━━━━━━━━━━━━━━━━━━━━━━━━━━━━━━━━━━━━\u001b[0m \u001b[32m124.2/124.2 MB\u001b[0m \u001b[31m8.4 MB/s\u001b[0m eta \u001b[36m0:00:00\u001b[0m\n",
            "\u001b[2K     \u001b[90m━━━━━━━━━━━━━━━━━━━━━━━━━━━━━━━━━━━━━━━━\u001b[0m \u001b[32m196.0/196.0 MB\u001b[0m \u001b[31m2.3 MB/s\u001b[0m eta \u001b[36m0:00:00\u001b[0m\n",
            "\u001b[2K     \u001b[90m━━━━━━━━━━━━━━━━━━━━━━━━━━━━━━━━━━━━━━━━\u001b[0m \u001b[32m166.0/166.0 MB\u001b[0m \u001b[31m7.6 MB/s\u001b[0m eta \u001b[36m0:00:00\u001b[0m\n",
            "\u001b[2K     \u001b[90m━━━━━━━━━━━━━━━━━━━━━━━━━━━━━━━━━━━━━━━━\u001b[0m \u001b[32m99.1/99.1 kB\u001b[0m \u001b[31m10.5 MB/s\u001b[0m eta \u001b[36m0:00:00\u001b[0m\n",
            "\u001b[2K     \u001b[90m━━━━━━━━━━━━━━━━━━━━━━━━━━━━━━━━━━━━━━━━\u001b[0m \u001b[32m21.1/21.1 MB\u001b[0m \u001b[31m66.1 MB/s\u001b[0m eta \u001b[36m0:00:00\u001b[0m\n",
            "\u001b[2K     \u001b[90m━━━━━━━━━━━━━━━━━━━━━━━━━━━━━━━━━━━━━━━━\u001b[0m \u001b[32m42.2/42.2 kB\u001b[0m \u001b[31m3.8 MB/s\u001b[0m eta \u001b[36m0:00:00\u001b[0m\n",
            "\u001b[?25h  Preparing metadata (setup.py) ... \u001b[?25l\u001b[?25hdone\n",
            "\u001b[2K     \u001b[90m━━━━━━━━━━━━━━━━━━━━━━━━━━━━━━━━━━━━━━━━\u001b[0m \u001b[32m56.4/56.4 kB\u001b[0m \u001b[31m4.8 MB/s\u001b[0m eta \u001b[36m0:00:00\u001b[0m\n",
            "\u001b[2K     \u001b[90m━━━━━━━━━━━━━━━━━━━━━━━━━━━━━━━━━━━━━━━━\u001b[0m \u001b[32m112.5/112.5 kB\u001b[0m \u001b[31m11.6 MB/s\u001b[0m eta \u001b[36m0:00:00\u001b[0m\n",
            "\u001b[2K     \u001b[90m━━━━━━━━━━━━━━━━━━━━━━━━━━━━━━━━━━━━━━━━\u001b[0m \u001b[32m86.8/86.8 kB\u001b[0m \u001b[31m8.8 MB/s\u001b[0m eta \u001b[36m0:00:00\u001b[0m\n",
            "\u001b[2K     \u001b[90m━━━━━━━━━━━━━━━━━━━━━━━━━━━━━━━━━━━━━━━━\u001b[0m \u001b[32m2.2/2.2 MB\u001b[0m \u001b[31m72.7 MB/s\u001b[0m eta \u001b[36m0:00:00\u001b[0m\n",
            "\u001b[2K     \u001b[90m━━━━━━━━━━━━━━━━━━━━━━━━━━━━━━━━━━━━━━━━\u001b[0m \u001b[32m79.5/79.5 kB\u001b[0m \u001b[31m8.8 MB/s\u001b[0m eta \u001b[36m0:00:00\u001b[0m\n",
            "\u001b[2K     \u001b[90m━━━━━━━━━━━━━━━━━━━━━━━━━━━━━━━━━━━━━━━━\u001b[0m \u001b[32m2.8/2.8 MB\u001b[0m \u001b[31m77.4 MB/s\u001b[0m eta \u001b[36m0:00:00\u001b[0m\n",
            "\u001b[2K     \u001b[90m━━━━━━━━━━━━━━━━━━━━━━━━━━━━━━━━━━━━━━━━\u001b[0m \u001b[32m117.0/117.0 kB\u001b[0m \u001b[31m13.7 MB/s\u001b[0m eta \u001b[36m0:00:00\u001b[0m\n",
            "\u001b[?25h  Preparing metadata (setup.py) ... \u001b[?25l\u001b[?25hdone\n",
            "  Building wheel for pdfminer (setup.py) ... \u001b[?25l\u001b[?25hdone\n",
            "  Building wheel for langdetect (setup.py) ... \u001b[?25l\u001b[?25hdone\n",
            "  Building wheel for iopath (setup.py) ... \u001b[?25l\u001b[?25hdone\n",
            "  Building wheel for antlr4-python3-runtime (setup.py) ... \u001b[?25l\u001b[?25hdone\n",
            "\u001b[31mERROR: pip's dependency resolver does not currently take into account all the packages that are installed. This behaviour is the source of the following dependency conflicts.\n",
            "imageio 2.31.6 requires pillow<10.1.0,>=8.3.2, but you have pillow 10.2.0 which is incompatible.\n",
            "tensorflow 2.15.0 requires wrapt<1.15,>=1.11.0, but you have wrapt 1.16.0 which is incompatible.\u001b[0m\u001b[31m\n",
            "\u001b[0m"
          ]
        }
      ],
      "source": [
        "# Install dependencies and initialize\n",
        "%pip install -qU \\\n",
        "    replicate \\\n",
        "    langchain \\\n",
        "    sentence_transformers \\\n",
        "    pdf2image \\\n",
        "    pdfminer \\\n",
        "    pdfminer.six \\\n",
        "    unstructured \\\n",
        "    pillow-heif \\\n",
        "    unstructured-inference \\\n",
        "    pikepdf \\\n",
        "    pypdf \\\n",
        "    faiss-gpu"
      ]
    },
    {
      "cell_type": "markdown",
      "metadata": {
        "id": "-ZUdqP9K2KtQ"
      },
      "source": [
        "# Presentation Layer Code\n",
        "\n",
        "Defines different functions and widgets that can be used to generate and display various diagrams and architectures"
      ]
    },
    {
      "cell_type": "code",
      "execution_count": 31,
      "metadata": {
        "id": "kLSuOPJn2NeF"
      },
      "outputs": [],
      "source": [
        "# Presentation layer code\n",
        "\n",
        "import base64\n",
        "from IPython.display import Image, display\n",
        "import matplotlib.pyplot as plt\n",
        "\n",
        "def mm(graph):\n",
        "  graphbytes = graph.encode(\"ascii\")\n",
        "  base64_bytes = base64.b64encode(graphbytes)\n",
        "  base64_string = base64_bytes.decode(\"ascii\")\n",
        "  display(Image(url=\"https://mermaid.ink/img/\" + base64_string))\n",
        "\n",
        "def genai_app_arch():\n",
        "  mm(\"\"\"\n",
        "  flowchart TD\n",
        "    A[Users] --> B(Applications e.g. mobile, web)\n",
        "    B --> |Hosted API|C(Platforms e.g. Custom, HuggingFace, Replicate)\n",
        "    B -- optional --> E(Frameworks e.g. LangChain)\n",
        "    C-->|User Input|D[Llama 2]\n",
        "    D-->|Model Output|C\n",
        "    E --> C\n",
        "    classDef default fill:#CCE6FF,stroke:#84BCF5,textColor:#1C2B33,fontFamily:trebuchet ms;\n",
        "  \"\"\")\n",
        "\n",
        "def rag_arch():\n",
        "  mm(\"\"\"\n",
        "  flowchart TD\n",
        "    A[User Prompts] --> B(Frameworks e.g. LangChain)\n",
        "    B <--> |Database, Docs, XLS|C[fa:fa-database External Data]\n",
        "    B -->|API|D[Llama 2]\n",
        "    classDef default fill:#CCE6FF,stroke:#84BCF5,textColor:#1C2B33,fontFamily:trebuchet ms;\n",
        "  \"\"\")\n",
        "\n",
        "def llama2_family():\n",
        "  mm(\"\"\"\n",
        "  graph LR;\n",
        "      llama-2 --> llama-2-7b\n",
        "      llama-2 --> llama-2-13b\n",
        "      llama-2 --> llama-2-70b\n",
        "      llama-2-7b --> llama-2-7b-chat\n",
        "      llama-2-13b --> llama-2-13b-chat\n",
        "      llama-2-70b --> llama-2-70b-chat\n",
        "      classDef default fill:#CCE6FF,stroke:#84BCF5,textColor:#1C2B33,fontFamily:trebuchet ms;\n",
        "  \"\"\")\n",
        "\n",
        "def apps_and_llms():\n",
        "  mm(\"\"\"\n",
        "  graph LR;\n",
        "    users --> apps\n",
        "    apps --> frameworks\n",
        "    frameworks --> platforms\n",
        "    platforms --> Llama 2\n",
        "    classDef default fill:#CCE6FF,stroke:#84BCF5,textColor:#1C2B33,fontFamily:trebuchet ms;\n",
        "  \"\"\")\n",
        "\n",
        "import ipywidgets as widgets\n",
        "from IPython.display import display, Markdown\n",
        "\n",
        "API_KEY = widgets.Password(\n",
        "    value='',\n",
        "    placeholder='',\n",
        "    description='API_KEY:',\n",
        "    disabled=False\n",
        ")\n",
        "\n",
        "def md(t):\n",
        "  display(Markdown(t))\n",
        "\n",
        "def bot_arch():\n",
        "  mm(\"\"\"\n",
        "  graph LR;\n",
        "  user --> prompt\n",
        "  prompt --> i_safety\n",
        "  i_safety --> context\n",
        "  context --> Llama_2\n",
        "  Llama_2 --> output\n",
        "  output --> o_safety\n",
        "  i_safety --> memory\n",
        "  o_safety --> memory\n",
        "  memory --> context\n",
        "  o_safety --> user\n",
        "  classDef default fill:#CCE6FF,stroke:#84BCF5,textColor:#1C2B33,fontFamily:trebuchet ms;\n",
        "  \"\"\")\n",
        "\n",
        "def fine_tuned_arch():\n",
        "  mm(\"\"\"\n",
        "  graph LR;\n",
        "      Custom_Dataset --> Pre-trained_Llama\n",
        "      Pre-trained_Llama --> Fine-tuned_Llama\n",
        "      Fine-tuned_Llama --> RLHF\n",
        "      RLHF --> |Loss:Cross-Entropy|Fine-tuned_Llama\n",
        "      classDef default fill:#CCE6FF,stroke:#84BCF5,textColor:#1C2B33,fontFamily:trebuchet ms;\n",
        "  \"\"\")\n",
        "\n",
        "def load_data_faiss_arch():\n",
        "  mm(\"\"\"\n",
        "  graph LR;\n",
        "      documents --> textsplitter\n",
        "      textsplitter --> embeddings\n",
        "      embeddings --> vectorstore\n",
        "      classDef default fill:#CCE6FF,stroke:#84BCF5,textColor:#1C2B33,fontFamily:trebuchet ms;\n",
        "  \"\"\")\n",
        "\n",
        "def mem_context():\n",
        "  mm(\"\"\"\n",
        "      graph LR\n",
        "      context(text)\n",
        "      user_prompt --> context\n",
        "      instruction --> context\n",
        "      examples --> context\n",
        "      memory --> context\n",
        "      context --> tokenizer\n",
        "      tokenizer --> embeddings\n",
        "      embeddings --> LLM\n",
        "      classDef default fill:#CCE6FF,stroke:#84BCF5,textColor:#1C2B33,fontFamily:trebuchet ms;\n",
        "  \"\"\")\n"
      ]
    },
    {
      "cell_type": "markdown",
      "metadata": {
        "id": "Hz-kHpRw0_HX"
      },
      "source": [
        "# Chat Completion\n",
        "\n",
        "This basic chat completion generates accurate and informative information based on the provided user input.\n",
        "\n",
        "Utilizes Replicate's hosted version of Llama 13-b for chat completion tasks.\n",
        "\n",
        "For reference: [Link to Replicate API key](https://replicate.com/account/api-tokens)"
      ]
    },
    {
      "cell_type": "code",
      "execution_count": 36,
      "metadata": {
        "colab": {
          "base_uri": "https://localhost:8080/"
        },
        "id": "o6uYOz9V0dqS",
        "outputId": "5f8be54b-04aa-4e91-f06b-b025cb807420"
      },
      "outputs": [
        {
          "name": "stdout",
          "output_type": "stream",
          "text": [
            "··········\n"
          ]
        }
      ],
      "source": [
        "import os\n",
        "import replicate\n",
        "from getpass import getpass\n",
        "\n",
        "\n",
        "# Utilize Replicate's llama-2-13b\n",
        "llama2_13b = \"meta/llama-2-13b-chat:f4e2de70d66816a838a89eeeb621910adffb0dd0baba3976c96980970978018d\"\n",
        "\n",
        "REPLICATE_API_TOKEN = getpass()\n",
        "os.environ[\"REPLICATE_API_TOKEN\"] = REPLICATE_API_TOKEN\n",
        "\n",
        "# Text completion with input prompt and system prompt\n",
        "# to promote respectful, safe, and factual responses that propose\n",
        "# a holistic approach to knowledge acquisition (ie not just trusting one source blindly)\n",
        "def chatCompletion(prompt):\n",
        "  output = replicate.run(\n",
        "      llama2_13b,\n",
        "      input={\"prompt\": prompt,\n",
        "             \"temperature\": 1.0,\n",
        "             \"system_prompt\": \"You are a helpful, respectful and honest assistant. Always answer as helpfully as possible, while being safe. Your answers should not include any harmful, unethical, racist, sexist, toxic, dangerous, or illegal content. Please ensure that your responses are socially unbiased and positive in nature.\\n\\nIf a question does not make any sense, or is not factually coherent, explain why instead of answering something not correct. If you don't know the answer to a question, please don't share false information. Always let the user know they can ask you more questions or follow up about the previous response given.\",\n",
        "             \"max_new_tokens\":1000}\n",
        "  )\n",
        "  return \"\".join(output)"
      ]
    },
    {
      "cell_type": "markdown",
      "metadata": {
        "id": "jatBWd5P56MH"
      },
      "source": [
        "# Chat Completion - Sample Financial Questions"
      ]
    },
    {
      "cell_type": "markdown",
      "metadata": {
        "id": "R3LlhPc76ELB"
      },
      "source": [
        "**What is a Ticker Symbol?**"
      ]
    },
    {
      "cell_type": "code",
      "execution_count": 42,
      "metadata": {
        "colab": {
          "base_uri": "https://localhost:8080/",
          "height": 166
        },
        "id": "UUgJatds077V",
        "outputId": "6f5bbc50-9baf-4644-e49e-fa1f91581c17"
      },
      "outputs": [
        {
          "data": {
            "text/markdown": [
              " Of course! A ticker symbol is a unique series of letters used to identify a specific stock, bond, or other financial security on a stock exchange. It is like a nickname for the security, and it is used to facilitate trading and investment transactions.\n",
              "\n",
              "Think of a ticker symbol like a username for a financial instrument. Just as you might use a username to identify yourself online, a ticker symbol helps identify a particular stock or bond so that buyers and sellers can easily find it on an exchange.\n",
              "\n",
              "For example, the ticker symbol for Apple Inc. is \"AAPL,\" and the ticker symbol for Microsoft Corporation is \"MSFT.\" These symbols are assigned by the exchanges where the securities are listed, and they are often used in financial news articles, research reports, and market data feeds to quickly reference a specific security.\n",
              "\n",
              "I hope this explanation helps! Is there anything else you would like to know about ticker symbols or the financial markets in general?"
            ],
            "text/plain": [
              "<IPython.core.display.Markdown object>"
            ]
          },
          "metadata": {},
          "output_type": "display_data"
        }
      ],
      "source": [
        "output = chatCompletion(prompt=\"Can you explain to me what a ticker symbol is?\")\n",
        "\n",
        "# Display output using markdown\n",
        "md(output)"
      ]
    },
    {
      "cell_type": "markdown",
      "metadata": {
        "id": "ubNU19GV6OCB"
      },
      "source": [
        "**What is a Security vs Stock vs ETF vs Mutual Fund?**"
      ]
    },
    {
      "cell_type": "code",
      "execution_count": 39,
      "metadata": {
        "colab": {
          "base_uri": "https://localhost:8080/",
          "height": 410
        },
        "id": "iL_KXCmk6csN",
        "outputId": "ea1a5cdd-ca05-45f5-f1d7-a59b08f641b7"
      },
      "outputs": [
        {
          "data": {
            "text/markdown": [
              " Hello! I'd be happy to help you understand the differences between these investment products.\n",
              "\n",
              "A security refers to a financial instrument that represents ownership or a claim on ownership of a company or asset. This can include stocks, bonds, mutual funds, and exchange-traded funds (ETFs).\n",
              "\n",
              "A stock, also known as equity, represents ownership in a company. When you buy stocks, you become a part-owner of the company and have a claim on its assets and profits.\n",
              "\n",
              "An ETF, on the other hand, is a type of investment fund that owns a portfolio of securities, such as stocks, bonds, or commodities. ETFs are traded on an exchange like stocks and offer diversification by tracking a particular market index, sector, or asset class.\n",
              "\n",
              "A mutual fund is a type of investment vehicle that pools money from many investors to invest in a variety of securities, such as stocks, bonds, and other assets. Mutual funds are managed by professional managers who invest the money on behalf of the shareholders.\n",
              "\n",
              "The key differences between these investment products are:\n",
              "\n",
              "1. Ownership: Stocks represent ownership in a company, while ETFs and mutual funds represent a pool of securities owned by many investors.\n",
              "2. Trading: Stocks are traded on exchanges like any other security, while ETFs and mutual funds are not traded on exchanges.\n",
              "3. Diversification: ETFs offer diversification by tracking a particular market index, sector, or asset class, while mutual funds invest in a variety of securities to provide diversification.\n",
              "4. Management: Mutual funds are managed by professional managers, while ETFs are passively managed.\n",
              "5. Fees: ETFs typically have lower fees than mutual funds.\n",
              "\n",
              "It's important to note that each of these investment products has its own benefits and drawbacks, and the best choice for you will depend on your individual financial goals, risk tolerance, and investment strategy. I recommend consulting with a financial advisor before making any investment decisions. Is there anything else you would like to know?"
            ],
            "text/plain": [
              "<IPython.core.display.Markdown object>"
            ]
          },
          "metadata": {},
          "output_type": "display_data"
        }
      ],
      "source": [
        "output = chatCompletion(prompt=\"What is the difference between a security vs a stock vs an ETF vs a mutual fund?\")\n",
        "md(output)"
      ]
    },
    {
      "cell_type": "markdown",
      "metadata": {
        "id": "i6t4CPyU6Hpr"
      },
      "source": [
        "**How do you know when to buy a security?**"
      ]
    },
    {
      "cell_type": "code",
      "execution_count": 40,
      "metadata": {
        "colab": {
          "base_uri": "https://localhost:8080/",
          "height": 488
        },
        "id": "BTHJz7e96k4l",
        "outputId": "bbb780ca-a584-49bc-b375-f90887972be2"
      },
      "outputs": [
        {
          "data": {
            "text/markdown": [
              " Hello! I'd be happy to help you with your question. However, before we dive into specifics, I want to point out that it's important to consult with a financial advisor or professional before making any investment decisions. They can provide personalized advice based on your individual circumstances and risk tolerance.\n",
              "\n",
              "That being said, here are some general tips that may be helpful in determining when to buy a stock:\n",
              "\n",
              "1. Research the company: Before investing in a particular stock, research the company to understand its financials, business model, and growth prospects. Look for companies with strong fundamentals, such as a history of profitability, a competitive advantage, and a solid balance sheet.\n",
              "2. Evaluate market trends: Keep an eye on overall market trends and economic conditions. A strong economy with low inflation and stable interest rates can support stock prices. On the other hand, a recession or market downturn can lead to lower stock values.\n",
              "3. Consider valuation: Compare the stock's price to its earnings, revenue, and other fundamental metrics. Avoid overpaying for stocks by looking for value opportunities.\n",
              "4. Diversify your portfolio: Spread your investments across different asset classes, sectors, and geographic regions to minimize risk. This can help you ride out market volatility and capture growth opportunities in various areas.\n",
              "5. Have a long-term perspective: Investing in stocks should be a long-term game plan. Aim to hold onto your investments for at least five years or more, as this allows for the natural ebbs and flows of the market.\n",
              "6. Monitor news and events: Stay informed about news and events that may impact the stocks you own. Company announcements, industry developments, and macroeconomic factors can all influence stock performance.\n",
              "7. Be cautious of hype: Be wary of overhyped stocks or industries that promise unusually high returns. These situations can be risky and may not align with your investment goals.\n",
              "8. Consult multiple sources: Gather information from reliable sources, such as financial news outlets, research firms, and analyst reports. Avoid relying solely on one source or opinion.\n",
              "9. Be prepared to adapt: Your investment strategy may need to evolve over time based on changes in the market or your personal circumstances. Remain flexible and open to adjusting your approach as needed.\n",
              "10. Seek professional guidance: If you're new to investing or feel unsure about any aspect of the process, consider consulting a financial advisor or registered investment advisor. They can provide tailored advice and help you create a customized investment plan.\n",
              "\n",
              "Remember, there is no foolproof way to predict when to buy a specific stock. The best approach is to educate yourself on sound investing principles, remain patient, and be prepared to adapt to changing market conditions."
            ],
            "text/plain": [
              "<IPython.core.display.Markdown object>"
            ]
          },
          "metadata": {},
          "output_type": "display_data"
        }
      ],
      "source": [
        "output = chatCompletion(prompt=\"How can you tell when to buy a stock? I'm new to investing.\")\n",
        "md(output)"
      ]
    },
    {
      "cell_type": "markdown",
      "metadata": {
        "id": "spn58yau8yyD"
      },
      "source": [
        "# Chat Completion with Conversation Memory\n",
        "\n",
        "LLMs are stateless by default, meaning they don't necessarily have access to previous conversation content or context.\n",
        "\n",
        "Understandably, this can lead to a frustrating user experience when engaging with this financial chatbot. Thus, the following code example demonstrates how to have a multi-turn conversation that captures the context of a user conversation with the chatbot."
      ]
    },
    {
      "cell_type": "code",
      "execution_count": 41,
      "metadata": {
        "colab": {
          "base_uri": "https://localhost:8080/",
          "height": 629
        },
        "id": "rbYJlZCK9Mp1",
        "outputId": "a254c0fd-cfea-4252-eac6-027a7f1bdec8"
      },
      "outputs": [
        {
          "data": {
            "text/markdown": [
              " Hello again! I'm happy to help you find a qualified financial advisor and guide you in creating a solid investment plan. When selecting an advisor, it's essential to look for someone who is trustworthy, knowledgeable, and aligned with your financial goals and risk tolerance. Here are some key factors to consider:\n",
              "\n",
              "1. Credentials: Check if the advisor has relevant education, certifications (such as CFP, CFA, or ChFC), and experience in the field. A degree in finance, economics, or a related field can indicate a strong foundation in investment principles. Professional designations like CFP (Certified Financial Planner) or CFA (Chartered Financial Analyst) show that the advisor has passed rigorous exams and maintains ongoing education requirements.\n",
              "2. Fee structure: Be aware of how your advisor gets compensated. Some advisors charge by the hour or based on the amount invested, while others may receive commissions for selling certain products. Look for an advisor who offers transparent fee structures and avoids conflicts of interest.\n",
              "3. Experience and expertise: Consider the advisor's specialization (e.g., retirement planning, estate planning, or tax planning) and their experience working with clients with similar needs and goals as yours.\n",
              "4. Reputation: Research the advisor's reputation online through independent review platforms like NerdWallet, Investopedia, or the Better Business Bureau. Pay attention to client testimonials and ratings.\n",
              "5. Personal chemistry: It's crucial to find an advisor you feel comfortable with and can communicate openly about your financial aspirations and concerns. You should also ensure they respond promptly to your inquiries and provide clear explanations of their recommendations.\n",
              "6. Ongoing support: Your advisor should be willing to help you adjust your plan as your circumstances change and offer ongoing support to help you stay on track towards your long-term financial objectives.\n",
              "\n",
              "A good investment plan should include the following key elements:\n",
              "\n",
              "1. Clearly defined financial goals: Identify what you want to achieve through investing, such as saving for retirement, a down payment on a house, or funding your children's education.\n",
              "2. Risk assessment: Understand your risk tolerance and time horizon to determine an appropriate asset allocation strategy.\n",
              "3. Diversification: Spread your investments across different asset classes (stocks, bonds, real estate, etc.) to minimize risk and maximize returns over the long term.\n",
              "4. Regular portfolio rebalancing: Periodically review and adjust your portfolio to maintain an optimal balance between risk and potential return.\n",
              "5. Tax efficiency: Consider the tax implications of your investments and seek to minimize tax liabilities where possible.\n",
              "6. Flexibility: Be prepared to adapt your plan as market conditions or your personal circumstances change.\n",
              "7. Transparency: Ensure that all fees and expenses are clearly disclosed, and understand how your advisor is compensated for their services.\n",
              "8. Performance monitoring: Regularly review your investments' performance and make adjustments as needed to keep your plan on track.\n",
              "9. Integration with other financial planning: A comprehensive investment plan should consider all aspects of your financial situation, including budgeting, debt management, insurance needs, and estate planning.\n",
              "10. Ongoing education and updates: Stay informed about changes in the market and industry trends, and ensure your advisor provides regular reviews and updates to help you navigate the ever-changing landscape of investing.\n",
              "\n",
              "Remember, finding the right financial advisor and developing a well-rounded investment plan takes time and research. It's essential to be patient, do your due diligence, and prioritize seeking professional guidance from a trustworthy and knowledgeable expert."
            ],
            "text/plain": [
              "<IPython.core.display.Markdown object>"
            ]
          },
          "metadata": {},
          "output_type": "display_data"
        }
      ],
      "source": [
        "user_prompt_chat = \"\"\"\n",
        "User: How can you tell when to buy a stock? I'm new to investing.\n",
        "Assistant: Hello! I'd be happy to help you with your question. However, before we dive into specifics, I want to point out that it's important to consult with a financial advisor or professional before making any investment decisions. They can provide personalized advice based on your individual circumstances and risk tolerance.\n",
        "That being said, here are some general tips that may be helpful in determining when to buy a stock:\n",
        "Research the company: Before investing in a particular stock, research the company to understand its financials, business model, and growth prospects. Look for companies with strong fundamentals, such as a history of profitability, a competitive advantage, and a solid balance sheet.\n",
        "Evaluate market trends: Keep an eye on overall market trends and economic conditions. A strong economy with low inflation and stable interest rates can support stock prices. On the other hand, a recession or market downturn can lead to lower stock values.\n",
        "Consider valuation: Compare the stock's price to its earnings, revenue, and other fundamental metrics. Avoid overpaying for stocks by looking for value opportunities.\n",
        "Diversify your portfolio: Spread your investments across different asset classes, sectors, and geographic regions to minimize risk. This can help you ride out market volatility and capture growth opportunities in various areas.\n",
        "Have a long-term perspective: Investing in stocks should be a long-term game plan. Aim to hold onto your investments for at least five years or more, as this allows for the natural ebbs and flows of the market.\n",
        "Monitor news and events: Stay informed about news and events that may impact the stocks you own. Company announcements, industry developments, and macroeconomic factors can all influence stock performance.\n",
        "Be cautious of hype: Be wary of overhyped stocks or industries that promise unusually high returns. These situations can be risky and may not align with your investment goals.\n",
        "Consult multiple sources: Gather information from reliable sources, such as financial news outlets, research firms, and analyst reports. Avoid relying solely on one source or opinion.\n",
        "Be prepared to adapt: Your investment strategy may need to evolve over time based on changes in the market or your personal circumstances. Remain flexible and open to adjusting your approach as needed.\n",
        "Seek professional guidance: If you're new to investing or feel unsure about any aspect of the process, consider consulting a financial advisor or registered investment advisor. They can provide tailored advice and help you create a customized investment plan.\n",
        "Remember, there is no foolproof way to predict when to buy a specific stock. The best approach is to educate yourself on sound investing principles, remain patient, and be prepared to adapt to changing market conditions.\n",
        "User: Can you tell me more about what you said about seeking professional advice? What are some things I should look for in a financial or investment advisor? What would you say makes a good investment plan?\n",
        "\"\"\"\n",
        "output = chatCompletion(prompt=user_prompt_chat)\n",
        "md(output)"
      ]
    }
  ],
  "metadata": {
    "colab": {
      "provenance": []
    },
    "kernelspec": {
      "display_name": "Python 3.10.1 64-bit",
      "language": "python",
      "name": "python3"
    },
    "language_info": {
      "name": "python",
      "version": "3.10.1"
    },
    "vscode": {
      "interpreter": {
        "hash": "aee8b7b246df8f9039afb4144a1f6fd8d2ca17a180786b69acc140d282b71a49"
      }
    }
  },
  "nbformat": 4,
  "nbformat_minor": 0
}
